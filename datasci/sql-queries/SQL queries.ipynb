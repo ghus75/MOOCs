{
 "cells": [
  {
   "cell_type": "markdown",
   "metadata": {},
   "source": [
    "# Sparse matrix multiplication"
   ]
  },
  {
   "cell_type": "code",
   "execution_count": null,
   "metadata": {
    "collapsed": true
   },
   "outputs": [],
   "source": [
    "SELECT a.row_num, b.col_num, sum(a.value*b.value)\n",
    "FROM a,b\n",
    "WHERE a.col_num = b.row_num\n",
    "GROUP BY a.row_num, b.col_num"
   ]
  },
  {
   "cell_type": "markdown",
   "metadata": {},
   "source": [
    "One element of A*B"
   ]
  },
  {
   "cell_type": "code",
   "execution_count": null,
   "metadata": {
    "collapsed": true
   },
   "outputs": [],
   "source": [
    "SELECT sum(a.value*b.value)\n",
    "FROM a,b\n",
    "WHERE a.col_num = b.row_num\n",
    "GROUP BY a.row_num, b.col_num\n",
    "HAVING a.row_num = 2 and b.col_num = 3"
   ]
  },
  {
   "cell_type": "code",
   "execution_count": null,
   "metadata": {
    "collapsed": true
   },
   "outputs": [],
   "source": []
  },
  {
   "cell_type": "markdown",
   "metadata": {},
   "source": [
    "# Term-document matrix"
   ]
  },
  {
   "cell_type": "markdown",
   "metadata": {},
   "source": [
    "Uses reuters.db database file"
   ]
  },
  {
   "cell_type": "markdown",
   "metadata": {},
   "source": [
    "## Compute similarity matrix"
   ]
  },
  {
   "cell_type": "code",
   "execution_count": null,
   "metadata": {
    "collapsed": true
   },
   "outputs": [],
   "source": [
    "SELECT f1.docid, f2.docid, sum(f1.count*f2.count)\n",
    "FROM Frequency f1 JOIN Frequency f2  -- join 2 instances of D matrix to calculate D.D^T\n",
    "                ON f1.term = f2.term\n",
    "WHERE f1.docid <= f2.docid           -- calculate lower half only of symetric matrix\n",
    "GROUP BY f1.docid, f2.docid"
   ]
  },
  {
   "cell_type": "markdown",
   "metadata": {},
   "source": [
    "This returns a 2561190 x 2561190 document-document square matrix, where each term is the dot product of document vectors. Query is exucuted in 116557ms (~2 minutes)."
   ]
  },
  {
   "cell_type": "markdown",
   "metadata": {},
   "source": [
    "## Compute similarity of 2 documents"
   ]
  },
  {
   "cell_type": "markdown",
   "metadata": {},
   "source": [
    "Returns the dot product of 2 document vectors"
   ]
  },
  {
   "cell_type": "code",
   "execution_count": null,
   "metadata": {
    "collapsed": true
   },
   "outputs": [],
   "source": [
    "SELECT sum(f1.count*f2.count)\n",
    "    FROM frequency f1 JOIN frequency f2\n",
    "                      ON f1.term = f2.term\n",
    "WHERE f1.docid='10080_txt_crude' \n",
    "AND f2.docid='17035_txt_earn'"
   ]
  },
  {
   "cell_type": "markdown",
   "metadata": {},
   "source": [
    "# Find best matching documents to keyword query"
   ]
  },
  {
   "cell_type": "markdown",
   "metadata": {},
   "source": [
    "Assume query is \"washington taxes treasury\""
   ]
  },
  {
   "cell_type": "markdown",
   "metadata": {},
   "source": [
    "### 1. Create a new document containing the query"
   ]
  },
  {
   "cell_type": "code",
   "execution_count": null,
   "metadata": {
    "collapsed": true
   },
   "outputs": [],
   "source": [
    "SELECT 'query_doc' as docid, 'washington' as term, 1 as count \n",
    "    UNION\n",
    "SELECT 'query_doc' as docid, 'taxes' as term, 1 as count\n",
    "    UNION \n",
    "SELECT 'query_doc' as docid, 'treasury' as term, 1 as count"
   ]
  },
  {
   "cell_type": "markdown",
   "metadata": {},
   "source": [
    "### 2. Compute similarity of query document with documents present in the database"
   ]
  },
  {
   "cell_type": "code",
   "execution_count": null,
   "metadata": {
    "collapsed": true
   },
   "outputs": [],
   "source": [
    "SELECT f1.docid, sum(f1.count*query_table.count) as simil\n",
    "    from Frequency f1 \n",
    "                    JOIN \n",
    "                        (\n",
    "                        SELECT 'query_doc' as docid, 'washington' as term, 1 as count \n",
    "                            UNION\n",
    "                        SELECT 'query_doc' as docid, 'taxes' as term, 1 as count\n",
    "                            UNION \n",
    "                        SELECT 'query_doc' as docid, 'treasury' as term, 1 as count\n",
    "                        ) \n",
    "                        query_table\n",
    "                    ON\n",
    "                        f1.term = query_table.term\n",
    "GROUP BY f1.docid\n",
    "ORDER BY sum(f1.count*query_table.count) desc"
   ]
  },
  {
   "cell_type": "code",
   "execution_count": null,
   "metadata": {
    "collapsed": true
   },
   "outputs": [],
   "source": []
  },
  {
   "cell_type": "code",
   "execution_count": null,
   "metadata": {
    "collapsed": true
   },
   "outputs": [],
   "source": []
  },
  {
   "cell_type": "code",
   "execution_count": null,
   "metadata": {
    "collapsed": true
   },
   "outputs": [],
   "source": []
  }
 ],
 "metadata": {
  "kernelspec": {
   "display_name": "Python 2",
   "language": "python",
   "name": "python2"
  },
  "language_info": {
   "codemirror_mode": {
    "name": "ipython",
    "version": 2
   },
   "file_extension": ".py",
   "mimetype": "text/x-python",
   "name": "python",
   "nbconvert_exporter": "python",
   "pygments_lexer": "ipython2",
   "version": "2.7.14"
  }
 },
 "nbformat": 4,
 "nbformat_minor": 2
}
