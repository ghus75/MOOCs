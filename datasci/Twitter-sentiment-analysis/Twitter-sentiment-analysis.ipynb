{
 "cells": [
  {
   "cell_type": "markdown",
   "metadata": {},
   "source": [
    "# Sentiment analysis using Twitter streams"
   ]
  },
  {
   "cell_type": "markdown",
   "metadata": {},
   "source": [
    "Simple analysis using parsing of English messages on Twitter.\n",
    "Scores are evaluated using the AFINN base"
   ]
  },
  {
   "cell_type": "markdown",
   "metadata": {},
   "source": [
    "# Get Twitter data"
   ]
  },
  {
   "cell_type": "code",
   "execution_count": 2,
   "metadata": {
    "collapsed": true
   },
   "outputs": [],
   "source": [
    "import sys\n",
    "import json\n",
    "\n",
    "import pandas as pd\n",
    "\n",
    "import matplotlib\n",
    "import matplotlib.pyplot as plt\n",
    "%matplotlib inline\n",
    "matplotlib.style.use('ggplot')\n",
    "\n",
    "import seaborn as sns"
   ]
  },
  {
   "cell_type": "code",
   "execution_count": null,
   "metadata": {
    "collapsed": true
   },
   "outputs": [],
   "source": []
  },
  {
   "cell_type": "markdown",
   "metadata": {},
   "source": [
    "# Utils"
   ]
  },
  {
   "cell_type": "code",
   "execution_count": 3,
   "metadata": {
    "collapsed": true
   },
   "outputs": [],
   "source": [
    "afinnfile = open(\"AFINN-111.txt\")\n",
    "\n",
    "scores = {}\n",
    "for line in afinnfile:\n",
    "   term, score  = line.split(\"\\t\")  #file is tab-delimited\n",
    "   scores[term] = int(score)"
   ]
  },
  {
   "cell_type": "code",
   "execution_count": 4,
   "metadata": {},
   "outputs": [
    {
     "data": {
      "text/plain": [
       "[('limited', -1),\n",
       " ('suicidal', -2),\n",
       " ('pardon', 2),\n",
       " ('desirable', 2),\n",
       " ('protest', -2),\n",
       " ('lurking', -1),\n",
       " ('controversial', -2),\n",
       " ('hating', -3),\n",
       " ('ridiculous', -3),\n",
       " ('hate', -3)]"
      ]
     },
     "execution_count": 4,
     "metadata": {},
     "output_type": "execute_result"
    }
   ],
   "source": [
    "scores.items()[:10]"
   ]
  },
  {
   "cell_type": "code",
   "execution_count": 5,
   "metadata": {
    "collapsed": true
   },
   "outputs": [],
   "source": [
    "states = {\n",
    "        'AK': 'Alaska',\n",
    "        'AL': 'Alabama',\n",
    "        'AR': 'Arkansas',\n",
    "        'AS': 'American Samoa',\n",
    "        'AZ': 'Arizona',\n",
    "        'CA': 'California',\n",
    "        'CO': 'Colorado',\n",
    "        'CT': 'Connecticut',\n",
    "        'DC': 'District of Columbia',\n",
    "        'DE': 'Delaware',\n",
    "        'FL': 'Florida',\n",
    "        'GA': 'Georgia',\n",
    "        'GU': 'Guam',\n",
    "        'HI': 'Hawaii',\n",
    "        'IA': 'Iowa',\n",
    "        'ID': 'Idaho',\n",
    "        'IL': 'Illinois',\n",
    "        'IN': 'Indiana',\n",
    "        'KS': 'Kansas',\n",
    "        'KY': 'Kentucky',\n",
    "        'LA': 'Louisiana',\n",
    "        'MA': 'Massachusetts',\n",
    "        'MD': 'Maryland',\n",
    "        'ME': 'Maine',\n",
    "        'MI': 'Michigan',\n",
    "        'MN': 'Minnesota',\n",
    "        'MO': 'Missouri',\n",
    "        'MP': 'Northern Mariana Islands',\n",
    "        'MS': 'Mississippi',\n",
    "        'MT': 'Montana',\n",
    "        'NA': 'National',\n",
    "        'NC': 'North Carolina',\n",
    "        'ND': 'North Dakota',\n",
    "        'NE': 'Nebraska',\n",
    "        'NH': 'New Hampshire',\n",
    "        'NJ': 'New Jersey',\n",
    "        'NM': 'New Mexico',\n",
    "        'NV': 'Nevada',\n",
    "        'NY': 'New York',\n",
    "        'OH': 'Ohio',\n",
    "        'OK': 'Oklahoma',\n",
    "        'OR': 'Oregon',\n",
    "        'PA': 'Pennsylvania',\n",
    "        'PR': 'Puerto Rico',\n",
    "        'RI': 'Rhode Island',\n",
    "        'SC': 'South Carolina',\n",
    "        'SD': 'South Dakota',\n",
    "        'TN': 'Tennessee',\n",
    "        'TX': 'Texas',\n",
    "        'UT': 'Utah',\n",
    "        'VA': 'Virginia',\n",
    "        'VI': 'Virgin Islands',\n",
    "        'VT': 'Vermont',\n",
    "        'WA': 'Washington',\n",
    "        'WI': 'Wisconsin',\n",
    "        'WV': 'West Virginia',\n",
    "        'WY': 'Wyoming'\n",
    "}\n"
   ]
  },
  {
   "cell_type": "code",
   "execution_count": null,
   "metadata": {
    "collapsed": true
   },
   "outputs": [],
   "source": []
  },
  {
   "cell_type": "markdown",
   "metadata": {},
   "source": [
    "# Tweet text parsing"
   ]
  },
  {
   "cell_type": "code",
   "execution_count": 6,
   "metadata": {
    "collapsed": true
   },
   "outputs": [],
   "source": [
    "tweet_file = open(\"output.json\")\n",
    "tweet_text_dict = {} # dictionary : key = tweet texts, value = sentiment\n",
    "state_score = {} # key = state, value = sentiment score\n",
    "\n",
    "for line in tweet_file:\n",
    "    curr_tweet = json.loads(line)\n",
    "    \n",
    "    try:\n",
    "        if 'text' in curr_tweet : #if 'text' field exists\n",
    "    \n",
    "            if 'lang' in curr_tweet:\n",
    "                if curr_tweet['lang'] == 'en':   # select tweets tagged in English\n",
    "                    #sentiment score\n",
    "                    tweet_text = curr_tweet['text']\n",
    "                    sentiment = 0\n",
    "                    for word in range(len(tweet_text.split())):\n",
    "                        if tweet_text.split()[word] in scores:\n",
    "                            sentiment += scores[tweet_text.split()[word]]\n",
    "                    tweet_text_dict[tweet_text] = sentiment\n",
    "                    \n",
    "                    #score according to location\n",
    "                    if 'user' in curr_tweet:\n",
    "                        if 'location' in curr_tweet['user']:\n",
    "                                location_str = str(curr_tweet['user']['location'])\n",
    "                                for location in range(len(location_str.split())):\n",
    "                                    if location_str.split()[location] in states:\n",
    "                                        if location_str.split()[location] in state_score :\n",
    "                                            state_score[location_str.split()[location]] += sentiment\n",
    "                                        else : state_score[location_str.split()[location]] = sentiment\n",
    "   \n",
    "    except UnicodeEncodeError: continue #ignore non-Western characters"
   ]
  },
  {
   "cell_type": "code",
   "execution_count": null,
   "metadata": {
    "collapsed": true
   },
   "outputs": [],
   "source": []
  },
  {
   "cell_type": "markdown",
   "metadata": {},
   "source": [
    "# Information retrieval"
   ]
  },
  {
   "cell_type": "markdown",
   "metadata": {},
   "source": [
    "## Derive the sentiment of each tweet using AFINN-111"
   ]
  },
  {
   "cell_type": "code",
   "execution_count": 7,
   "metadata": {
    "collapsed": true,
    "scrolled": true
   },
   "outputs": [],
   "source": [
    "tweet_df = pd.DataFrame(tweet_text_dict.items(),columns=['tweet', 'sentiment'])"
   ]
  },
  {
   "cell_type": "code",
   "execution_count": 8,
   "metadata": {
    "scrolled": true
   },
   "outputs": [
    {
     "data": {
      "text/html": [
       "<div>\n",
       "<style>\n",
       "    .dataframe thead tr:only-child th {\n",
       "        text-align: right;\n",
       "    }\n",
       "\n",
       "    .dataframe thead th {\n",
       "        text-align: left;\n",
       "    }\n",
       "\n",
       "    .dataframe tbody tr th {\n",
       "        vertical-align: top;\n",
       "    }\n",
       "</style>\n",
       "<table border=\"1\" class=\"dataframe\">\n",
       "  <thead>\n",
       "    <tr style=\"text-align: right;\">\n",
       "      <th></th>\n",
       "      <th>tweet</th>\n",
       "      <th>sentiment</th>\n",
       "    </tr>\n",
       "  </thead>\n",
       "  <tbody>\n",
       "    <tr>\n",
       "      <th>0</th>\n",
       "      <td>KYAAAAAAAAAAAAA!!! Sehun performed The dance w...</td>\n",
       "      <td>0</td>\n",
       "    </tr>\n",
       "    <tr>\n",
       "      <th>1</th>\n",
       "      <td>Well done is better than well said. (Benjamin ...</td>\n",
       "      <td>2</td>\n",
       "    </tr>\n",
       "    <tr>\n",
       "      <th>2</th>\n",
       "      <td>RT @dichi08: Never let the things you want mak...</td>\n",
       "      <td>0</td>\n",
       "    </tr>\n",
       "    <tr>\n",
       "      <th>3</th>\n",
       "      <td>RT @insideaflower: Henrik teaching geography b...</td>\n",
       "      <td>0</td>\n",
       "    </tr>\n",
       "    <tr>\n",
       "      <th>4</th>\n",
       "      <td>Check out my Junior Season Highlights! 🌪🏈 - ht...</td>\n",
       "      <td>0</td>\n",
       "    </tr>\n",
       "  </tbody>\n",
       "</table>\n",
       "</div>"
      ],
      "text/plain": [
       "                                               tweet  sentiment\n",
       "0  KYAAAAAAAAAAAAA!!! Sehun performed The dance w...          0\n",
       "1  Well done is better than well said. (Benjamin ...          2\n",
       "2  RT @dichi08: Never let the things you want mak...          0\n",
       "3  RT @insideaflower: Henrik teaching geography b...          0\n",
       "4  Check out my Junior Season Highlights! 🌪🏈 - ht...          0"
      ]
     },
     "execution_count": 8,
     "metadata": {},
     "output_type": "execute_result"
    }
   ],
   "source": [
    "tweet_df.head(5)"
   ]
  },
  {
   "cell_type": "markdown",
   "metadata": {},
   "source": [
    "## Derive the sentiment of new terms not in AFINN-111"
   ]
  },
  {
   "cell_type": "code",
   "execution_count": 9,
   "metadata": {
    "collapsed": true
   },
   "outputs": [],
   "source": [
    "scores_not_AFINN = {} # key = word not in AFINN, value = score"
   ]
  },
  {
   "cell_type": "markdown",
   "metadata": {},
   "source": [
    "New terms get affected with global sentiment score of tweet - provided that tweet contains words in AFINN (very lazy method)"
   ]
  },
  {
   "cell_type": "code",
   "execution_count": 10,
   "metadata": {
    "collapsed": true
   },
   "outputs": [],
   "source": [
    "for key in tweet_text_dict: \n",
    "    if tweet_text_dict[key] != 0 :  #tweets w/ AFINN terms \n",
    "        for j in range(len(key.split())):\n",
    "            if key.split()[j] in scores:continue\n",
    "            else : scores_not_AFINN[key.split()[j]] = tweet_text_dict[key]"
   ]
  },
  {
   "cell_type": "code",
   "execution_count": 11,
   "metadata": {
    "collapsed": true,
    "scrolled": true
   },
   "outputs": [],
   "source": [
    "scores_not_AFINN_df = pd.DataFrame(scores_not_AFINN.items(),columns=['term', 'sentiment'])"
   ]
  },
  {
   "cell_type": "code",
   "execution_count": 12,
   "metadata": {
    "scrolled": true
   },
   "outputs": [
    {
     "data": {
      "text/html": [
       "<div>\n",
       "<style>\n",
       "    .dataframe thead tr:only-child th {\n",
       "        text-align: right;\n",
       "    }\n",
       "\n",
       "    .dataframe thead th {\n",
       "        text-align: left;\n",
       "    }\n",
       "\n",
       "    .dataframe tbody tr th {\n",
       "        vertical-align: top;\n",
       "    }\n",
       "</style>\n",
       "<table border=\"1\" class=\"dataframe\">\n",
       "  <thead>\n",
       "    <tr style=\"text-align: right;\">\n",
       "      <th></th>\n",
       "      <th>term</th>\n",
       "      <th>sentiment</th>\n",
       "    </tr>\n",
       "  </thead>\n",
       "  <tbody>\n",
       "    <tr>\n",
       "      <th>0</th>\n",
       "      <td>fawn</td>\n",
       "      <td>-3</td>\n",
       "    </tr>\n",
       "    <tr>\n",
       "      <th>1</th>\n",
       "      <td>https://t.co/vOnbJCV4Wa</td>\n",
       "      <td>-3</td>\n",
       "    </tr>\n",
       "    <tr>\n",
       "      <th>2</th>\n",
       "      <td>https://t.co/mynFI8UPRl</td>\n",
       "      <td>2</td>\n",
       "    </tr>\n",
       "    <tr>\n",
       "      <th>3</th>\n",
       "      <td>JN:</td>\n",
       "      <td>1</td>\n",
       "    </tr>\n",
       "    <tr>\n",
       "      <th>4</th>\n",
       "      <td>@wef:</td>\n",
       "      <td>3</td>\n",
       "    </tr>\n",
       "  </tbody>\n",
       "</table>\n",
       "</div>"
      ],
      "text/plain": [
       "                      term  sentiment\n",
       "0                     fawn         -3\n",
       "1  https://t.co/vOnbJCV4Wa         -3\n",
       "2  https://t.co/mynFI8UPRl          2\n",
       "3                      JN:          1\n",
       "4                    @wef:          3"
      ]
     },
     "execution_count": 12,
     "metadata": {},
     "output_type": "execute_result"
    }
   ],
   "source": [
    "scores_not_AFINN_df.head(5)"
   ]
  },
  {
   "cell_type": "markdown",
   "metadata": {},
   "source": [
    "## Term frequency histogram"
   ]
  },
  {
   "cell_type": "code",
   "execution_count": 13,
   "metadata": {
    "collapsed": true
   },
   "outputs": [],
   "source": [
    "N = 100 # N most frequent terms"
   ]
  },
  {
   "cell_type": "code",
   "execution_count": 14,
   "metadata": {
    "collapsed": true,
    "scrolled": true
   },
   "outputs": [],
   "source": [
    "term_occurences = {}\n",
    "for tweet in tweet_df.tweet:\n",
    "    for term in range(len(tweet.split())):\n",
    "        #\n",
    "        # convert to lowercase\n",
    "        #if tweet.split()[term] in stop_words:\n",
    "        #    continue\n",
    "        #\n",
    "        if tweet.split()[term] in term_occurences:\n",
    "            term_occurences[tweet.split()[term]] += 1 #add term occurence\n",
    "        else: term_occurences[tweet.split()[term]] = 1 #1st encountered\n",
    "\n",
    "most_frequent = []\n",
    "for i in range(N):\n",
    "    most_frequent.append(sorted(term_occurences.items(), key=lambda x: x[1], reverse = True)[i])"
   ]
  },
  {
   "cell_type": "code",
   "execution_count": 15,
   "metadata": {
    "collapsed": true,
    "scrolled": true
   },
   "outputs": [],
   "source": [
    "most_frequent_df = pd.DataFrame(most_frequent, columns=['term', 'frequency'])"
   ]
  },
  {
   "cell_type": "code",
   "execution_count": 16,
   "metadata": {},
   "outputs": [
    {
     "data": {
      "text/plain": [
       "Text(0,0.5,u'Frequency')"
      ]
     },
     "execution_count": 16,
     "metadata": {},
     "output_type": "execute_result"
    },
    {
     "data": {
      "image/png": "[encoded data removed]",
      "text/plain": [
       "<matplotlib.figure.Figure at 0x7f08e1b8f410>"
      ]
     },
     "metadata": {},
     "output_type": "display_data"
    }
   ],
   "source": [
    "word_list=[]\n",
    "for word in most_frequent_df['term'].values:\n",
    "    word_list.append(str(word))\n",
    "    \n",
    "x = most_frequent_df.index\n",
    "y = most_frequent_df['frequency']\n",
    "x_ticks_labels = word_list\n",
    "\n",
    "fig, ax = plt.subplots(figsize=(20,10))\n",
    "#ax.bar(x,y)\n",
    "sns.barplot(x, y, ci=None, palette=\"BuGn_d\")#, hline=.1)#, ax=ax)\n",
    "ax.set_xticks(x)\n",
    "ax.set_xticklabels(x_ticks_labels, rotation = 'vertical', fontsize=12)\n",
    "ax.set_xlabel('Word', fontsize=18)\n",
    "ax.set_ylabel('Frequency', fontsize=18)"
   ]
  },
  {
   "cell_type": "markdown",
   "metadata": {},
   "source": [
    "## Score happiness throughout US states"
   ]
  },
  {
   "cell_type": "code",
   "execution_count": 17,
   "metadata": {},
   "outputs": [
    {
     "name": "stdout",
     "output_type": "stream",
     "text": [
      "[('GA', 23), ('FL', 16), ('MI', 8), ('KS', 8), ('NV', 7), ('CO', 6), ('DC', 5), ('TX', 5), ('LA', 5), ('AZ', 5), ('WV', 4), ('NY', 4), ('AR', 4), ('IL', 4), ('RI', 4), ('NE', 3), ('IN', 3), ('IA', 3), ('OH', 3), ('WA', 2), ('DE', 2), ('CA', 2), ('AL', 2), ('MO', 2), ('MN', 2), ('NC', 1), ('TN', 1), ('VA', 1), ('OR', 1), ('WI', 0), ('NH', 0), ('NJ', 0), ('AS', 0), ('CT', 0), ('ME', 0), ('MA', 0), ('KY', 0), ('AK', -1), ('PA', -6), ('SC', -9), ('MD', -14)]\n"
     ]
    }
   ],
   "source": [
    "if state_score.items():\n",
    "    state_score_sorted_list = []\n",
    "    state_score_sorted_list = sorted(state_score.items(), key=lambda x: x[1], reverse = True)\n",
    "    print state_score_sorted_list"
   ]
  },
  {
   "cell_type": "code",
   "execution_count": 18,
   "metadata": {
    "collapsed": true
   },
   "outputs": [],
   "source": [
    "state_score_df = pd.DataFrame(state_score_sorted_list, columns=['state', 'happiness score'])"
   ]
  },
  {
   "cell_type": "code",
   "execution_count": 19,
   "metadata": {},
   "outputs": [
    {
     "data": {
      "text/plain": [
       "Text(0,0.5,u'Happiness score')"
      ]
     },
     "execution_count": 19,
     "metadata": {},
     "output_type": "execute_result"
    },
    {
     "data": {
      "image/png": "[encoded data removed]",
      "text/plain": [
       "<matplotlib.figure.Figure at 0x7f08da6063d0>"
      ]
     },
     "metadata": {},
     "output_type": "display_data"
    }
   ],
   "source": [
    "state_list=[]\n",
    "for state in state_score_df['state'].values:\n",
    "    state_list.append(str(state))\n",
    "    \n",
    "x = state_score_df.index\n",
    "y = state_score_df['happiness score']\n",
    "x_ticks_labels = state_list\n",
    "\n",
    "fig, ax = plt.subplots(figsize=(20,10))\n",
    "#ax.bar(x,y)\n",
    "\n",
    "sns.barplot(x, y, ci=None, palette=\"coolwarm_r\")#, hline=0), ax=ax2)\n",
    "ax.set_xticks(x)\n",
    "ax.set_xticklabels(x_ticks_labels, rotation = 'vertical', fontsize=12)\n",
    "ax.set_xlabel('US state', fontsize=18)\n",
    "ax.set_ylabel('Happiness score', fontsize=18)"
   ]
  },
  {
   "cell_type": "code",
   "execution_count": null,
   "metadata": {
    "collapsed": true
   },
   "outputs": [],
   "source": []
  }
 ],
 "metadata": {
  "kernelspec": {
   "display_name": "Python 2",
   "language": "python",
   "name": "python2"
  },
  "language_info": {
   "codemirror_mode": {
    "name": "ipython",
    "version": 2
   },
   "file_extension": ".py",
   "mimetype": "text/x-python",
   "name": "python",
   "nbconvert_exporter": "python",
   "pygments_lexer": "ipython2",
   "version": "2.7.14"
  }
 },
 "nbformat": 4,
 "nbformat_minor": 2
}
